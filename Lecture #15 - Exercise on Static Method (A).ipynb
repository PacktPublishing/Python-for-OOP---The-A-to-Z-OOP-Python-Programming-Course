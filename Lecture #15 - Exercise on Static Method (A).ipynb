{
 "cells": [
  {
   "cell_type": "code",
   "execution_count": 80,
   "metadata": {},
   "outputs": [],
   "source": [
    "class Date:\n",
    "    def __init__(self,year,month,day):      #Contructor / Init Method\n",
    "        self.year=year\n",
    "        self.month=month\n",
    "        self.day = day\n",
    "    \n",
    "    def arrange_value_into_Date_pattern(self):        #Instance Method\n",
    "        date = str(self.day) + '-' + str(self.month) + '-' +  str(self.year)\n",
    "        return date\n",
    "    \n",
    "    @classmethod\n",
    "    def getDataformString(clr,string):           #class method\n",
    "        import re\n",
    "        data = re.findall('\\d{2}-\\d{2}-\\d{4}|\\d{2}/\\d{2}/\\d{4}',string)[0]  # 17/06/2022\n",
    "        list_date= data.replace('/','-').split('-')\n",
    "        print(list_date)\n",
    "        day =  list_date[0]\n",
    "        month =  list_date[1]\n",
    "        year =  list_date[2]\n",
    "        return clr(year,month,day)\n",
    "    \n",
    "    @staticmethod     # 2022-06-17 ---> 17-06-2022\n",
    "    def setDatePattern(string):\n",
    "        list1 = string.replace('/','-').split('-')\n",
    "        print(list1)\n",
    "        date_update = list1[2] + '-' + list1[1]  + '-' + list1[0]\n",
    "        return date_update\n",
    "        \n",
    "        \n",
    "        \n",
    "    \n",
    "    \n",
    "    "
   ]
  },
  {
   "cell_type": "code",
   "execution_count": 81,
   "metadata": {},
   "outputs": [],
   "source": [
    "date1 = Date(2022,6,17)"
   ]
  },
  {
   "cell_type": "code",
   "execution_count": 82,
   "metadata": {},
   "outputs": [
    {
     "data": {
      "text/plain": [
       "{'year': 2022, 'month': 6, 'day': 17}"
      ]
     },
     "execution_count": 82,
     "metadata": {},
     "output_type": "execute_result"
    }
   ],
   "source": [
    "date1.__dict__"
   ]
  },
  {
   "cell_type": "code",
   "execution_count": 83,
   "metadata": {},
   "outputs": [
    {
     "data": {
      "text/plain": [
       "'17-6-2022'"
      ]
     },
     "execution_count": 83,
     "metadata": {},
     "output_type": "execute_result"
    }
   ],
   "source": [
    "date1.arrange_value_into_Date_pattern()"
   ]
  },
  {
   "cell_type": "code",
   "execution_count": 84,
   "metadata": {},
   "outputs": [
    {
     "name": "stdout",
     "output_type": "stream",
     "text": [
      "['17', '06', '2022']\n"
     ]
    }
   ],
   "source": [
    "date2 = Date.getDataformString('today date is 17-06-2022')"
   ]
  },
  {
   "cell_type": "code",
   "execution_count": 85,
   "metadata": {},
   "outputs": [
    {
     "data": {
      "text/plain": [
       "'17-06-2022'"
      ]
     },
     "execution_count": 85,
     "metadata": {},
     "output_type": "execute_result"
    }
   ],
   "source": [
    "date2.arrange_value_into_Date_pattern()"
   ]
  },
  {
   "cell_type": "code",
   "execution_count": 86,
   "metadata": {},
   "outputs": [],
   "source": [
    "date3 = Date(2022,6,17)"
   ]
  },
  {
   "cell_type": "code",
   "execution_count": 87,
   "metadata": {},
   "outputs": [
    {
     "name": "stdout",
     "output_type": "stream",
     "text": [
      "['2022', '06', '17']\n"
     ]
    },
    {
     "data": {
      "text/plain": [
       "'17-06-2022'"
      ]
     },
     "execution_count": 87,
     "metadata": {},
     "output_type": "execute_result"
    }
   ],
   "source": [
    "date3.setDatePattern('2022-06-17')"
   ]
  },
  {
   "cell_type": "code",
   "execution_count": 88,
   "metadata": {},
   "outputs": [
    {
     "name": "stdout",
     "output_type": "stream",
     "text": [
      "['2022', '06', '17']\n"
     ]
    }
   ],
   "source": [
    "date4 = Date.setDatePattern('2022-06-17')"
   ]
  },
  {
   "cell_type": "code",
   "execution_count": 90,
   "metadata": {},
   "outputs": [
    {
     "data": {
      "text/plain": [
       "'17-06-2022'"
      ]
     },
     "execution_count": 90,
     "metadata": {},
     "output_type": "execute_result"
    }
   ],
   "source": [
    "date4"
   ]
  },
  {
   "cell_type": "code",
   "execution_count": null,
   "metadata": {},
   "outputs": [],
   "source": []
  }
 ],
 "metadata": {
  "kernelspec": {
   "display_name": "Python 3",
   "language": "python",
   "name": "python3"
  },
  "language_info": {
   "codemirror_mode": {
    "name": "ipython",
    "version": 3
   },
   "file_extension": ".py",
   "mimetype": "text/x-python",
   "name": "python",
   "nbconvert_exporter": "python",
   "pygments_lexer": "ipython3",
   "version": "3.8.3"
  }
 },
 "nbformat": 4,
 "nbformat_minor": 4
}
