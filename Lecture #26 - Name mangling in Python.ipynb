{
 "cells": [
  {
   "cell_type": "code",
   "execution_count": null,
   "metadata": {},
   "outputs": [],
   "source": []
  },
  {
   "cell_type": "code",
   "execution_count": 24,
   "metadata": {},
   "outputs": [],
   "source": [
    "class Phone:\n",
    "    def __init__(self,brand,model,price):\n",
    "        self.brand = brand\n",
    "        self.model = model\n",
    "        self.__price = price\n",
    "        self._discount = 5\n",
    "    \n",
    "    def apply_discount(self):\n",
    "        discounted = (self.price/100)*self._discount\n",
    "        final_price = self.price - discounted\n",
    "        return final_price"
   ]
  },
  {
   "cell_type": "code",
   "execution_count": 25,
   "metadata": {},
   "outputs": [],
   "source": [
    "Phone1 = Phone('Nokia','1100',3000)"
   ]
  },
  {
   "cell_type": "code",
   "execution_count": 26,
   "metadata": {},
   "outputs": [
    {
     "data": {
      "text/plain": [
       "{'brand': 'Nokia', 'model': '1100', '_Phone__price': 3000, '_discount': 5}"
      ]
     },
     "execution_count": 26,
     "metadata": {},
     "output_type": "execute_result"
    }
   ],
   "source": [
    "Phone1.__dict__"
   ]
  },
  {
   "cell_type": "code",
   "execution_count": 28,
   "metadata": {},
   "outputs": [
    {
     "data": {
      "text/plain": [
       "3000"
      ]
     },
     "execution_count": 28,
     "metadata": {},
     "output_type": "execute_result"
    }
   ],
   "source": [
    "Phone1._Phone__price"
   ]
  },
  {
   "cell_type": "code",
   "execution_count": 51,
   "metadata": {},
   "outputs": [],
   "source": [
    "class Phone:\n",
    "    def __init__(self,brand,model_name,price):\n",
    "        self.brand = brand\n",
    "        self.model_name =  model_name\n",
    "        self.price =  max(price,0)\n",
    "        \n",
    "    @staticmethod\n",
    "    def make_a_call(phone_num):\n",
    "        print(f\"calling {phone_num}...\")\n",
    "    \n",
    "    def __full_name(self):\n",
    "        return f\"{self.brand} {self.model_name}\""
   ]
  },
  {
   "cell_type": "code",
   "execution_count": 52,
   "metadata": {},
   "outputs": [],
   "source": [
    "class SmartPhone(Phone): \n",
    "    def __init__(self,brand,model_name,price, ram , internal_memory , rare_camera):  \n",
    "        \n",
    "        super().__init__(brand,model_name,price)   \n",
    "        \n",
    "        self.ram = ram\n",
    "        self.internal_memory =  internal_memory\n",
    "        self.rare_camera = rare_camera\n",
    "        \n",
    "    def __full_name(self):\n",
    "        return f\"{self.brand} {self.model_name} and price is {self.price}\""
   ]
  },
  {
   "cell_type": "code",
   "execution_count": 53,
   "metadata": {},
   "outputs": [],
   "source": [
    "class FlagShip(SmartPhone): # Derived Class / Child Class\n",
    "    \n",
    "     def __init__(self,brand,model_name,price, ram , internal_memory , rare_camera,front_Camera):\n",
    "            \n",
    "            super().__init__(brand,model_name,price, ram , internal_memory , rare_camera) \n",
    "            \n",
    "            self.front_Camera = front_Camera\n",
    "            \n",
    "#     def full_name(self):\n",
    "#         return f\"{self.brand} {self.model_name}\""
   ]
  },
  {
   "cell_type": "code",
   "execution_count": 47,
   "metadata": {},
   "outputs": [],
   "source": [
    "# SmartPhone2 = SmartPhone('Samsung','A7',6000,'4GB','128GB','25 MP')"
   ]
  },
  {
   "cell_type": "code",
   "execution_count": 48,
   "metadata": {},
   "outputs": [
    {
     "data": {
      "text/plain": [
       "'Samsung A7 and price is 6000'"
      ]
     },
     "execution_count": 48,
     "metadata": {},
     "output_type": "execute_result"
    }
   ],
   "source": [
    "# SmartPhone2.full_name()"
   ]
  },
  {
   "cell_type": "code",
   "execution_count": 54,
   "metadata": {},
   "outputs": [],
   "source": [
    "flagship1 = FlagShip('Samsung','A7',6000,'4GB','128GB','25 MP','12MP')"
   ]
  },
  {
   "cell_type": "code",
   "execution_count": 55,
   "metadata": {},
   "outputs": [
    {
     "data": {
      "text/plain": [
       "{'brand': 'Samsung',\n",
       " 'model_name': 'A7',\n",
       " 'price': 6000,\n",
       " 'ram': '4GB',\n",
       " 'internal_memory': '128GB',\n",
       " 'rare_camera': '25 MP',\n",
       " 'front_Camera': '12MP'}"
      ]
     },
     "execution_count": 55,
     "metadata": {},
     "output_type": "execute_result"
    }
   ],
   "source": [
    "flagship1.__dict__"
   ]
  },
  {
   "cell_type": "code",
   "execution_count": 59,
   "metadata": {},
   "outputs": [
    {
     "data": {
      "text/plain": [
       "'Samsung A7 and price is 6000'"
      ]
     },
     "execution_count": 59,
     "metadata": {},
     "output_type": "execute_result"
    }
   ],
   "source": [
    "flagship1._SmartPhone__full_name()"
   ]
  },
  {
   "cell_type": "code",
   "execution_count": 57,
   "metadata": {},
   "outputs": [],
   "source": [
    "# help(flagship1)"
   ]
  },
  {
   "cell_type": "code",
   "execution_count": null,
   "metadata": {},
   "outputs": [],
   "source": []
  }
 ],
 "metadata": {
  "kernelspec": {
   "display_name": "Python 3",
   "language": "python",
   "name": "python3"
  },
  "language_info": {
   "codemirror_mode": {
    "name": "ipython",
    "version": 3
   },
   "file_extension": ".py",
   "mimetype": "text/x-python",
   "name": "python",
   "nbconvert_exporter": "python",
   "pygments_lexer": "ipython3",
   "version": "3.8.3"
  }
 },
 "nbformat": 4,
 "nbformat_minor": 4
}
