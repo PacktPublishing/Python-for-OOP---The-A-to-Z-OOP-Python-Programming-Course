{
 "cells": [
  {
   "cell_type": "markdown",
   "metadata": {},
   "source": [
    "**Can we Derive more than one class from Base Class ?**"
   ]
  },
  {
   "cell_type": "markdown",
   "metadata": {},
   "source": [
    "**What is MultiLevel Inveritance ?**"
   ]
  },
  {
   "cell_type": "code",
   "execution_count": 1,
   "metadata": {},
   "outputs": [],
   "source": [
    "class Phone: # Base Class / Parent Class\n",
    "    def __init__(self,brand,model_name,price):\n",
    "        self.brand = brand\n",
    "        self.model_name =  model_name\n",
    "        self.price =  max(price,0)\n",
    "        \n",
    "    @staticmethod\n",
    "    def make_a_call(phone_num):\n",
    "        print(f\"calling {phone_num}...\")\n",
    "    \n",
    "    def full_name(self):\n",
    "        return f\"{self.brand} {self.model_name}\""
   ]
  },
  {
   "cell_type": "code",
   "execution_count": 2,
   "metadata": {},
   "outputs": [],
   "source": [
    "class SmartPhone(Phone): # Derived Class / Child Class\n",
    "    \n",
    "     def __init__(self,brand,model_name,price, ram , internal_memory , rare_camera):  \n",
    "        \n",
    "        super().__init__(brand,model_name,price)   #Common Way\n",
    "        \n",
    "#         Phone.__init__(self,brand,model_name,price) #Uncommon\n",
    "        self.ram = ram\n",
    "        self.internal_memory =  internal_memory\n",
    "        self.rare_camera = rare_camera"
   ]
  },
  {
   "cell_type": "code",
   "execution_count": 8,
   "metadata": {},
   "outputs": [],
   "source": [
    "class FlagShip(SmartPhone): # Derived Class / Child Class\n",
    "    \n",
    "     def __init__(self,brand,model_name,price, ram , internal_memory , rare_camera,front_Camera):\n",
    "            \n",
    "            super().__init__(brand,model_name,price, ram , internal_memory , rare_camera) \n",
    "            \n",
    "            self.front_Camera = front_Camera"
   ]
  },
  {
   "cell_type": "code",
   "execution_count": 3,
   "metadata": {},
   "outputs": [],
   "source": [
    "# class SmartPhone2(SmartPhone): # Derived Class / Child Class\n",
    "    \n",
    "#      def __init__(self,brand,model_name,price, ram , internal_memory , rare_camera,):  \n",
    "        \n",
    "#         super().__init__(brand,model_name,price)   #Common Way\n",
    "        \n",
    "# #         Phone.__init__(self,brand,model_name,price) #Uncommon\n",
    "#         self.ram = ram\n",
    "#         self.internal_memory =  internal_memory\n",
    "#         self.rare_camera = rare_camera"
   ]
  },
  {
   "cell_type": "code",
   "execution_count": 4,
   "metadata": {},
   "outputs": [],
   "source": [
    "SmartPhone2 = SmartPhone2('Samsung','A7',6000,'4GB','128GB','25 MP')"
   ]
  },
  {
   "cell_type": "code",
   "execution_count": 6,
   "metadata": {},
   "outputs": [
    {
     "data": {
      "text/plain": [
       "'Samsung A7'"
      ]
     },
     "execution_count": 6,
     "metadata": {},
     "output_type": "execute_result"
    }
   ],
   "source": [
    "SmartPhone2.full_name()"
   ]
  },
  {
   "cell_type": "code",
   "execution_count": 9,
   "metadata": {},
   "outputs": [],
   "source": [
    "onePlus = FlagShip('Samsung','A7',6000,'4GB','128GB','25 MP','12 MP')"
   ]
  },
  {
   "cell_type": "code",
   "execution_count": 10,
   "metadata": {},
   "outputs": [
    {
     "data": {
      "text/plain": [
       "'Samsung A7'"
      ]
     },
     "execution_count": 10,
     "metadata": {},
     "output_type": "execute_result"
    }
   ],
   "source": [
    "onePlus.full_name()"
   ]
  },
  {
   "cell_type": "code",
   "execution_count": null,
   "metadata": {},
   "outputs": [],
   "source": []
  }
 ],
 "metadata": {
  "kernelspec": {
   "display_name": "Python 3",
   "language": "python",
   "name": "python3"
  },
  "language_info": {
   "codemirror_mode": {
    "name": "ipython",
    "version": 3
   },
   "file_extension": ".py",
   "mimetype": "text/x-python",
   "name": "python",
   "nbconvert_exporter": "python",
   "pygments_lexer": "ipython3",
   "version": "3.8.3"
  }
 },
 "nbformat": 4,
 "nbformat_minor": 4
}
