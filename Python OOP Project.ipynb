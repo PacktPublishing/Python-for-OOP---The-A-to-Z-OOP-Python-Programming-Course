{
 "cells": [
  {
   "cell_type": "code",
   "execution_count": 13,
   "metadata": {},
   "outputs": [],
   "source": [
    "class Library:\n",
    "    def __init__(self, list , name):\n",
    "        self.bookList = list\n",
    "        self.name = name\n",
    "        self.lenDict = {}\n",
    "        \n",
    "    def displayBooks(self):\n",
    "        print(f\"{self.name}, We have follwong books in our library.\")\n",
    "        sno =  1\n",
    "        for book in self.bookList:\n",
    "            print(f\"{sno} {book}\")\n",
    "            sno+=1\n",
    "    \n",
    "    def lendBook(self,book,name):\n",
    "        if book in self.bookList:\n",
    "            if book not in self.lenDict:\n",
    "                self.lenDict.update({book: name})\n",
    "                print(\"Lender-Book databse has been updated. Your can take the book now.\")\n",
    "            else:\n",
    "                print(f\"Book is already being used by {self.lenDict[book]}\")\n",
    "        else:\n",
    "            print(f\"This book is not relate to our database.\") \n",
    "    \n",
    "    def addBook(self, book):\n",
    "        self.bookList.append(book)\n",
    "        print(\"Book has been added to the book list.\")\n",
    "    \n",
    "    def returnBook(self, book):\n",
    "        if book in self.bookList:\n",
    "            if book in self.lenDict.keys():\n",
    "                self.lenDict.pop(book)\n",
    "                print(\"Ok Thank you , Book is recived.\")\n",
    "            else:\n",
    "                print(f\"This book {book} is not in use.\")\n",
    "                \n",
    "        else:\n",
    "            print(f\"This book is not relate to our database.\")"
   ]
  },
  {
   "cell_type": "code",
   "execution_count": 25,
   "metadata": {},
   "outputs": [],
   "source": [
    "\n",
    "BenLibrary =  Library(['Python','Java','Data Science','Web Scraping','Data Mining'] , 'Ben')"
   ]
  },
  {
   "cell_type": "code",
   "execution_count": 26,
   "metadata": {},
   "outputs": [
    {
     "data": {
      "text/plain": [
       "{'bookList': ['Python', 'Java', 'Data Science', 'Web Scraping', 'Data Mining'],\n",
       " 'name': 'Ben',\n",
       " 'lenDict': {}}"
      ]
     },
     "execution_count": 26,
     "metadata": {},
     "output_type": "execute_result"
    }
   ],
   "source": [
    "BenLibrary.__dict__"
   ]
  },
  {
   "cell_type": "code",
   "execution_count": 28,
   "metadata": {},
   "outputs": [
    {
     "name": "stdout",
     "output_type": "stream",
     "text": [
      "Ben, We have follwong books in our library.\n",
      "1 Python\n",
      "2 Java\n",
      "3 Data Science\n",
      "4 Web Scraping\n",
      "5 Data Mining\n"
     ]
    }
   ],
   "source": [
    "BenLibrary.displayBooks()"
   ]
  },
  {
   "cell_type": "code",
   "execution_count": 29,
   "metadata": {},
   "outputs": [
    {
     "name": "stdout",
     "output_type": "stream",
     "text": [
      "Book has been added to the book list.\n"
     ]
    }
   ],
   "source": [
    "BenLibrary.addBook('React Native')"
   ]
  },
  {
   "cell_type": "code",
   "execution_count": 32,
   "metadata": {},
   "outputs": [
    {
     "name": "stdout",
     "output_type": "stream",
     "text": [
      "Ben, We have follwong books in our library.\n",
      "1 Python\n",
      "2 Java\n",
      "3 Data Science\n",
      "4 Web Scraping\n",
      "5 Data Mining\n",
      "6 React Native\n"
     ]
    }
   ],
   "source": [
    "BenLibrary.displayBooks()"
   ]
  },
  {
   "cell_type": "code",
   "execution_count": 33,
   "metadata": {},
   "outputs": [
    {
     "name": "stdout",
     "output_type": "stream",
     "text": [
      "Book is already being used by John\n"
     ]
    }
   ],
   "source": [
    "BenLibrary.lendBook('Data Science','John')"
   ]
  },
  {
   "cell_type": "code",
   "execution_count": 34,
   "metadata": {},
   "outputs": [
    {
     "data": {
      "text/plain": [
       "{'bookList': ['Python',\n",
       "  'Java',\n",
       "  'Data Science',\n",
       "  'Web Scraping',\n",
       "  'Data Mining',\n",
       "  'React Native'],\n",
       " 'name': 'Ben',\n",
       " 'lenDict': {'Data Science': 'John'}}"
      ]
     },
     "execution_count": 34,
     "metadata": {},
     "output_type": "execute_result"
    }
   ],
   "source": [
    "BenLibrary.__dict__"
   ]
  },
  {
   "cell_type": "code",
   "execution_count": 35,
   "metadata": {},
   "outputs": [
    {
     "name": "stdout",
     "output_type": "stream",
     "text": [
      "Lender-Book databse has been updated. Your can take the book now.\n"
     ]
    }
   ],
   "source": [
    "BenLibrary.lendBook('Data Mining','Michal')"
   ]
  },
  {
   "cell_type": "code",
   "execution_count": 36,
   "metadata": {},
   "outputs": [
    {
     "name": "stdout",
     "output_type": "stream",
     "text": [
      "Ok Thank you , Book is recived.\n"
     ]
    }
   ],
   "source": [
    "BenLibrary.returnBook('Data Mining')"
   ]
  },
  {
   "cell_type": "markdown",
   "metadata": {},
   "source": [
    "# Execution work"
   ]
  },
  {
   "cell_type": "code",
   "execution_count": null,
   "metadata": {},
   "outputs": [
    {
     "name": "stdout",
     "output_type": "stream",
     "text": [
      "Welcome to the Ben library. Enter your choice to continue\n",
      "1 Display Books\n",
      "2 Lend a Book\n",
      "3 Add a Book\n",
      "4 Return a Book\n",
      "2\n",
      "Entet the name of the book you want to lend:react\n",
      "Enter your name:Sohail\n",
      "This book is not relate to our database.\n",
      "Press q to quit and c to continue\n",
      "c\n",
      "Welcome to the Ben library. Enter your choice to continue\n",
      "1 Display Books\n",
      "2 Lend a Book\n",
      "3 Add a Book\n",
      "4 Return a Book\n",
      "2\n",
      "Entet the name of the book you want to lend:1\n",
      "Enter your name:sohail\n",
      "This book is not relate to our database.\n",
      "Press q to quit and c to continue\n",
      "c\n",
      "Welcome to the Ben library. Enter your choice to continue\n",
      "1 Display Books\n",
      "2 Lend a Book\n",
      "3 Add a Book\n",
      "4 Return a Book\n",
      "1\n",
      "Ben, We have follwong books in our library.\n",
      "1 Python\n",
      "2 Java\n",
      "3 Data Science\n",
      "4 Web Scraping\n",
      "5 Data Mining\n",
      "Press q to quit and c to continue\n",
      "c\n",
      "Welcome to the Ben library. Enter your choice to continue\n",
      "1 Display Books\n",
      "2 Lend a Book\n",
      "3 Add a Book\n",
      "4 Return a Book\n",
      "2\n",
      "Entet the name of the book you want to lend:Python\n",
      "Enter your name:Sohail\n",
      "Lender-Book databse has been updated. Your can take the book now.\n",
      "Press q to quit and c to continue\n",
      "c\n",
      "Welcome to the Ben library. Enter your choice to continue\n",
      "1 Display Books\n",
      "2 Lend a Book\n",
      "3 Add a Book\n",
      "4 Return a Book\n",
      "3\n",
      "Entet the name of the book you want to add:React Native\n",
      "Book has been added to the book list.\n",
      "Press q to quit and c to continue\n",
      "c\n",
      "Welcome to the Ben library. Enter your choice to continue\n",
      "1 Display Books\n",
      "2 Lend a Book\n",
      "3 Add a Book\n",
      "4 Return a Book\n",
      "1\n",
      "Ben, We have follwong books in our library.\n",
      "1 Python\n",
      "2 Java\n",
      "3 Data Science\n",
      "4 Web Scraping\n",
      "5 Data Mining\n",
      "6 React Native\n",
      "Press q to quit and c to continue\n",
      "c\n",
      "Welcome to the Ben library. Enter your choice to continue\n",
      "1 Display Books\n",
      "2 Lend a Book\n",
      "3 Add a Book\n",
      "4 Return a Book\n",
      "4\n",
      "Entet the name of the book you want to return:data scraping\n",
      "This book is not relate to our database.\n",
      "Press q to quit and c to continue\n",
      "c\n",
      "Welcome to the Ben library. Enter your choice to continue\n",
      "1 Display Books\n",
      "2 Lend a Book\n",
      "3 Add a Book\n",
      "4 Return a Book\n",
      "4\n",
      "Entet the name of the book you want to return:Python\n",
      "Ok Thank you , Book is recived.\n",
      "Press q to quit and c to continue\n"
     ]
    }
   ],
   "source": [
    "if __name__ ==  '__main__':\n",
    "    \n",
    "    BenLibrary =  Library(['Python','Java','Data Science','Web Scraping','Data Mining'] , 'Ben')\n",
    "    while(True):\n",
    "        print(f\"Welcome to the {BenLibrary.name} library. Enter your choice to continue\")\n",
    "        print(\"1 Display Books\")\n",
    "        print(\"2 Lend a Book\")\n",
    "        print(\"3 Add a Book\")\n",
    "        print(\"4 Return a Book\")\n",
    "        user_choice = input()\n",
    "        if user_choice not in ['1','2','3','4']:\n",
    "            print(\"Please enter a valid option\")\n",
    "            continue\n",
    "        else:\n",
    "              user_choice = int(user_choice)\n",
    "        \n",
    "        if user_choice == 1:\n",
    "            BenLibrary.displayBooks()\n",
    "            \n",
    "        elif user_choice == 2:\n",
    "            book = input(\"Entet the name of the book you want to lend:\")\n",
    "            user_name = input(\"Enter your name:\")\n",
    "            BenLibrary.lendBook(book,user_name)\n",
    "        \n",
    "        elif user_choice == 3:\n",
    "            book = input(\"Entet the name of the book you want to add:\")\n",
    "            BenLibrary.addBook(book)\n",
    "        \n",
    "        elif user_choice == 4:\n",
    "            book = input(\"Entet the name of the book you want to return:\")\n",
    "            BenLibrary.returnBook(book)\n",
    "        \n",
    "        else:\n",
    "            print(\"Not a valid option\")\n",
    "            \n",
    "            \n",
    "        print(\"Press q to quit and c to continue\")\n",
    "        \n",
    "        user_choice2 = \"\"\n",
    "        \n",
    "        while(user_choice2 != \"c\" and user_choice2 !=\"q\"):\n",
    "            user_choice2 = input()\n",
    "            if user_choice2 == \"q\":\n",
    "                exit()\n",
    "                \n",
    "            elif user_choice2 == \"c\":\n",
    "                continue\n",
    "            \n",
    "            \n",
    "            \n",
    "\n",
    "              \n",
    "              "
   ]
  },
  {
   "cell_type": "code",
   "execution_count": null,
   "metadata": {},
   "outputs": [],
   "source": []
  },
  {
   "cell_type": "code",
   "execution_count": null,
   "metadata": {},
   "outputs": [],
   "source": []
  },
  {
   "cell_type": "code",
   "execution_count": null,
   "metadata": {},
   "outputs": [],
   "source": []
  },
  {
   "cell_type": "code",
   "execution_count": null,
   "metadata": {},
   "outputs": [],
   "source": []
  },
  {
   "cell_type": "code",
   "execution_count": null,
   "metadata": {},
   "outputs": [],
   "source": []
  }
 ],
 "metadata": {
  "kernelspec": {
   "display_name": "Python 3",
   "language": "python",
   "name": "python3"
  },
  "language_info": {
   "codemirror_mode": {
    "name": "ipython",
    "version": 3
   },
   "file_extension": ".py",
   "mimetype": "text/x-python",
   "name": "python",
   "nbconvert_exporter": "python",
   "pygments_lexer": "ipython3",
   "version": "3.8.3"
  }
 },
 "nbformat": 4,
 "nbformat_minor": 4
}
