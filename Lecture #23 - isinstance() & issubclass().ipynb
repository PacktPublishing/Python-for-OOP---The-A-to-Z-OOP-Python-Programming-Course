{
 "cells": [
  {
   "cell_type": "code",
   "execution_count": 4,
   "metadata": {},
   "outputs": [],
   "source": [
    "class Phone: \n",
    "    def __init__(self,brand,model_name,price):\n",
    "        self.brand = brand\n",
    "        self.model_name =  model_name\n",
    "        self.price =  max(price,0)\n",
    "        \n",
    "    @staticmethod\n",
    "    def make_a_call(phone_num):\n",
    "        print(f\"calling {phone_num}...\")\n",
    "    \n",
    "    def full_name(self):\n",
    "        return f\"{self.brand} {self.model_name}\"\n",
    "    "
   ]
  },
  {
   "cell_type": "code",
   "execution_count": 5,
   "metadata": {},
   "outputs": [],
   "source": [
    "class SmartPhone(Phone): \n",
    "    \n",
    "    def __init__(self,brand,model_name,price, ram , internal_memory , rare_camera):  \n",
    "        super().__init__(brand,model_name,price)   \n",
    "        \n",
    "        self.ram = ram\n",
    "        self.internal_memory =  internal_memory\n",
    "        self.rare_camera = rare_camera\n",
    "        "
   ]
  },
  {
   "cell_type": "code",
   "execution_count": 6,
   "metadata": {},
   "outputs": [],
   "source": [
    "class FlagShip(SmartPhone):\n",
    "    \n",
    "    def __init__(self,brand,model_name,price, ram , internal_memory , rare_camera,front_Camera):\n",
    "        \n",
    "        super().__init__(brand,model_name,price, ram , internal_memory , rare_camera) \n",
    "        \n",
    "        self.front_Camera = front_Camera\n",
    "    "
   ]
  },
  {
   "cell_type": "code",
   "execution_count": 10,
   "metadata": {},
   "outputs": [],
   "source": [
    "Phone_3310 = Phone('Nokia','3310',3000)"
   ]
  },
  {
   "cell_type": "code",
   "execution_count": 11,
   "metadata": {},
   "outputs": [],
   "source": [
    "SmartPhone_A7 = SmartPhone('Samsung','A7',60000,'4GB','128GB','25MP')"
   ]
  },
  {
   "cell_type": "code",
   "execution_count": 12,
   "metadata": {},
   "outputs": [],
   "source": [
    "FlagShip_onePlus = FlagShip('Samsung','A7',60000,'4GB','128GB','25MP','12MP')"
   ]
  },
  {
   "cell_type": "code",
   "execution_count": 22,
   "metadata": {},
   "outputs": [
    {
     "data": {
      "text/plain": [
       "False"
      ]
     },
     "execution_count": 22,
     "metadata": {},
     "output_type": "execute_result"
    }
   ],
   "source": [
    "isinstance(SmartPhone_A7,FlagShip)"
   ]
  },
  {
   "cell_type": "code",
   "execution_count": 27,
   "metadata": {},
   "outputs": [
    {
     "data": {
      "text/plain": [
       "False"
      ]
     },
     "execution_count": 27,
     "metadata": {},
     "output_type": "execute_result"
    }
   ],
   "source": [
    "issubclass(Phone,FlagShip)"
   ]
  },
  {
   "cell_type": "code",
   "execution_count": null,
   "metadata": {},
   "outputs": [],
   "source": []
  }
 ],
 "metadata": {
  "kernelspec": {
   "display_name": "Python 3",
   "language": "python",
   "name": "python3"
  },
  "language_info": {
   "codemirror_mode": {
    "name": "ipython",
    "version": 3
   },
   "file_extension": ".py",
   "mimetype": "text/x-python",
   "name": "python",
   "nbconvert_exporter": "python",
   "pygments_lexer": "ipython3",
   "version": "3.8.3"
  }
 },
 "nbformat": 4,
 "nbformat_minor": 4
}
