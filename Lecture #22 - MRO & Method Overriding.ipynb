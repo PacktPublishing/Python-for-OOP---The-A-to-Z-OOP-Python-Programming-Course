{
 "cells": [
  {
   "cell_type": "markdown",
   "metadata": {},
   "source": [
    "**What is Method Resolution Order ?**"
   ]
  },
  {
   "cell_type": "markdown",
   "metadata": {},
   "source": [
    "**What is Method Overriding ?**"
   ]
  },
  {
   "cell_type": "code",
   "execution_count": 84,
   "metadata": {},
   "outputs": [],
   "source": [
    "class Phone: # Base Class / Parent Class\n",
    "    def __init__(self,brand,model_name,price):\n",
    "        self.brand = brand\n",
    "        self.model_name =  model_name\n",
    "        self.price =  max(price,0)\n",
    "        \n",
    "    @staticmethod\n",
    "    def make_a_call(phone_num):\n",
    "        print(f\"calling {phone_num}...\")\n",
    "    \n",
    "    def full_name(self):\n",
    "        return f\"{self.brand} {self.model_name}\"\n",
    "    "
   ]
  },
  {
   "cell_type": "code",
   "execution_count": 85,
   "metadata": {},
   "outputs": [],
   "source": [
    "class SmartPhone(Phone): # Derived Class / Child Class\n",
    "    \n",
    "    def __init__(self,brand,model_name,price, ram , internal_memory , rare_camera):  \n",
    "        super().__init__(brand,model_name,price)   #Common Way\n",
    "        \n",
    "#         Phone.__init__(self,brand,model_name,price) #Uncommon\n",
    "        self.ram = ram\n",
    "        self.internal_memory =  internal_memory\n",
    "        self.rare_camera = rare_camera\n",
    "        \n",
    "#     def full_name(self):\n",
    "#         return f\"{self.brand} {self.model_name} and price is {self.price}\""
   ]
  },
  {
   "cell_type": "code",
   "execution_count": 86,
   "metadata": {},
   "outputs": [],
   "source": [
    "class FlagShip(SmartPhone): # Derived Class / Child Class\n",
    "    \n",
    "    def __init__(self,brand,model_name,price, ram , internal_memory , rare_camera,front_Camera):\n",
    "        \n",
    "        super().__init__(brand,model_name,price, ram , internal_memory , rare_camera) \n",
    "        \n",
    "        self.front_Camera = front_Camera\n",
    "        \n",
    "#     def full_name(self):\n",
    "#         return f\"{self.brand} {self.model_name} and price is {self.price} and ram is {self.ram}\"\n"
   ]
  },
  {
   "cell_type": "code",
   "execution_count": 87,
   "metadata": {},
   "outputs": [],
   "source": [
    "Phone1 = Phone('Nokia','1600',4000)"
   ]
  },
  {
   "cell_type": "code",
   "execution_count": 88,
   "metadata": {},
   "outputs": [],
   "source": [
    "SmartPhone1 = SmartPhone('Samsung','A7',60000,'4GB','32GB','25MP')"
   ]
  },
  {
   "cell_type": "code",
   "execution_count": 89,
   "metadata": {},
   "outputs": [],
   "source": [
    "oneplus = FlagShip('OnePlus','A-2',60000,'4GB','32GB','25MP','12MP')"
   ]
  },
  {
   "cell_type": "code",
   "execution_count": 90,
   "metadata": {},
   "outputs": [
    {
     "data": {
      "text/plain": [
       "'OnePlus A-2'"
      ]
     },
     "execution_count": 90,
     "metadata": {},
     "output_type": "execute_result"
    }
   ],
   "source": [
    "oneplus.full_name()"
   ]
  },
  {
   "cell_type": "code",
   "execution_count": 47,
   "metadata": {},
   "outputs": [],
   "source": [
    "# help(SmartPhone1)"
   ]
  },
  {
   "cell_type": "code",
   "execution_count": null,
   "metadata": {},
   "outputs": [],
   "source": []
  }
 ],
 "metadata": {
  "kernelspec": {
   "display_name": "Python 3",
   "language": "python",
   "name": "python3"
  },
  "language_info": {
   "codemirror_mode": {
    "name": "ipython",
    "version": 3
   },
   "file_extension": ".py",
   "mimetype": "text/x-python",
   "name": "python",
   "nbconvert_exporter": "python",
   "pygments_lexer": "ipython3",
   "version": "3.8.3"
  }
 },
 "nbformat": 4,
 "nbformat_minor": 4
}
