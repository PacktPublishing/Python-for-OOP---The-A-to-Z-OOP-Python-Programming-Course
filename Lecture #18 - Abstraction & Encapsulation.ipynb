{
 "cells": [
  {
   "cell_type": "code",
   "execution_count": 26,
   "metadata": {},
   "outputs": [],
   "source": [
    "class Phone:\n",
    "    def __init__(self,brand,model_name,price):\n",
    "        self.brand = brand\n",
    "        self.model_name =  model_name\n",
    "        self.price = price \n",
    "        \n",
    "    @staticmethod\n",
    "    def make_a_call(phone_num):\n",
    "        print(f\"calling {phone_num}...\")\n",
    "    \n",
    "    def full_name(self):\n",
    "        return f\"{self.brand} {self.model_name}\""
   ]
  },
  {
   "cell_type": "code",
   "execution_count": 31,
   "metadata": {},
   "outputs": [],
   "source": [
    "class Date:\n",
    "    def __init__(self,year,month,day):      #Contructor / Init Method\n",
    "        self.year=year\n",
    "        self.month=month\n",
    "        self.day = day\n",
    "    \n",
    "    def arrange_value_into_Date_pattern(self):        #Instance Method\n",
    "        date = str(self.day) + '-' + str(self.month) + '-' +  str(self.year)\n",
    "        return date\n",
    "    \n",
    "    @classmethod\n",
    "    def getDataformString(clr,string):           #class method\n",
    "        import re\n",
    "        data = re.findall('\\d{2}-\\d{2}-\\d{4}|\\d{2}/\\d{2}/\\d{4}',string)[0]  # 17/06/2022\n",
    "        list_date= data.replace('/','-').split('-')\n",
    "        print(list_date)\n",
    "        day =  list_date[0]\n",
    "        month =  list_date[1]\n",
    "        year =  list_date[2]\n",
    "        return clr(year,month,day)\n",
    "    \n",
    "    @staticmethod     # 2022-06-17 ---> 17-06-2022\n",
    "    def setDatePattern(string):\n",
    "        list1 = string.replace('/','-').split('-')\n",
    "        print(list1)\n",
    "        date_update = list1[2] + '-' + list1[1]  + '-' + list1[0]\n",
    "        return date_update"
   ]
  },
  {
   "cell_type": "code",
   "execution_count": 27,
   "metadata": {},
   "outputs": [],
   "source": [
    "phone1 = Phone('Nokia',1100,4000)"
   ]
  },
  {
   "cell_type": "code",
   "execution_count": 28,
   "metadata": {},
   "outputs": [
    {
     "data": {
      "text/plain": [
       "{'brand': 'Nokia', 'model_name': 1100, 'price': 4000}"
      ]
     },
     "execution_count": 28,
     "metadata": {},
     "output_type": "execute_result"
    }
   ],
   "source": [
    "phone1.__dict__"
   ]
  },
  {
   "cell_type": "code",
   "execution_count": 29,
   "metadata": {},
   "outputs": [
    {
     "name": "stdout",
     "output_type": "stream",
     "text": [
      "calling 090078601...\n"
     ]
    }
   ],
   "source": [
    "phone1.make_a_call('090078601')"
   ]
  },
  {
   "cell_type": "code",
   "execution_count": 30,
   "metadata": {},
   "outputs": [
    {
     "data": {
      "text/plain": [
       "'Nokia 1100'"
      ]
     },
     "execution_count": 30,
     "metadata": {},
     "output_type": "execute_result"
    }
   ],
   "source": [
    "phone1.full_name()"
   ]
  },
  {
   "cell_type": "code",
   "execution_count": null,
   "metadata": {},
   "outputs": [],
   "source": []
  }
 ],
 "metadata": {
  "kernelspec": {
   "display_name": "Python 3",
   "language": "python",
   "name": "python3"
  },
  "language_info": {
   "codemirror_mode": {
    "name": "ipython",
    "version": 3
   },
   "file_extension": ".py",
   "mimetype": "text/x-python",
   "name": "python",
   "nbconvert_exporter": "python",
   "pygments_lexer": "ipython3",
   "version": "3.8.3"
  }
 },
 "nbformat": 4,
 "nbformat_minor": 4
}
