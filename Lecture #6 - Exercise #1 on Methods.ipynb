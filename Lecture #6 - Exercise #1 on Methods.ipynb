{
 "cells": [
  {
   "cell_type": "code",
   "execution_count": 93,
   "metadata": {},
   "outputs": [],
   "source": [
    "class Student:\n",
    "    def __init__(self,name,marks):\n",
    "        self.name= name\n",
    "        self.marks = marks\n",
    "    \n",
    "    def result(self):\n",
    "        \n",
    "        if self.marks >= 500:\n",
    "            return 'Pass'\n",
    "        else:\n",
    "            return 'Fail'\n",
    "    "
   ]
  },
  {
   "cell_type": "code",
   "execution_count": 94,
   "metadata": {},
   "outputs": [],
   "source": [
    "s1 = Student('Sohail',400)\n",
    "s2 = Student('Usama',600)\n",
    "s3 = Student('Shakeel',700)\n",
    "s4 = Student('Ali',300)\n",
    "s5 = Student('Usman',500)\n",
    "s6 = Student('Mehar',600)"
   ]
  },
  {
   "cell_type": "code",
   "execution_count": 95,
   "metadata": {},
   "outputs": [],
   "source": [
    "student_objects =  [s1,s2,s3,s4,s5,s6]"
   ]
  },
  {
   "cell_type": "code",
   "execution_count": 96,
   "metadata": {},
   "outputs": [],
   "source": [
    "passStudents = []\n",
    "failStudents = []\n",
    "students_result = {}\n",
    "for x in student_objects:\n",
    "    if x.result() == 'Pass':\n",
    "        passStudents.append(x.name)\n",
    "        students_result['Pass Students'] = passStudents\n",
    "    else:\n",
    "        failStudents.append(x.name)\n",
    "        students_result['Fail Students'] = failStudents\n",
    "        "
   ]
  },
  {
   "cell_type": "code",
   "execution_count": 97,
   "metadata": {},
   "outputs": [
    {
     "data": {
      "text/plain": [
       "{'Fail Students': ['Sohail', 'Ali'],\n",
       " 'Pass Students': ['Usama', 'Shakeel', 'Usman', 'Mehar']}"
      ]
     },
     "execution_count": 97,
     "metadata": {},
     "output_type": "execute_result"
    }
   ],
   "source": [
    "students_result"
   ]
  },
  {
   "cell_type": "code",
   "execution_count": null,
   "metadata": {},
   "outputs": [],
   "source": []
  }
 ],
 "metadata": {
  "kernelspec": {
   "display_name": "Python 3",
   "language": "python",
   "name": "python3"
  },
  "language_info": {
   "codemirror_mode": {
    "name": "ipython",
    "version": 3
   },
   "file_extension": ".py",
   "mimetype": "text/x-python",
   "name": "python",
   "nbconvert_exporter": "python",
   "pygments_lexer": "ipython3",
   "version": "3.8.3"
  }
 },
 "nbformat": 4,
 "nbformat_minor": 4
}
